{
 "cells": [
  {
   "cell_type": "code",
   "execution_count": 8,
   "metadata": {},
   "outputs": [
    {
     "data": {
      "text/html": [
       "\n",
       "<div class='tableauPlaceholder' id='viz1517121461936' style='position: relative'><noscript><a href='#'><img alt='Geo ' src='https:&#47;&#47;public.tableau.com&#47;static&#47;images&#47;IR&#47;IRS-scatter&#47;Geo&#47;1_rss.png' style='border: none' /></a></noscript><object class='tableauViz'  style='display:none;'><param name='host_url' value='https%3A%2F%2Fpublic.tableau.com%2F' /> <param name='embed_code_version' value='3' /> <param name='site_root' value='' /><param name='name' value='IRS-scatter&#47;Geo' /><param name='tabs' value='no' /><param name='toolbar' value='yes' /><param name='static_image' value='https:&#47;&#47;public.tableau.com&#47;static&#47;images&#47;IR&#47;IRS-scatter&#47;Geo&#47;1.png' /> <param name='animate_transition' value='yes' /><param name='display_static_image' value='yes' /><param name='display_spinner' value='yes' /><param name='display_overlay' value='yes' /><param name='display_count' value='yes' /></object></div>                <script type='text/javascript'>                    var divElement = document.getElementById('viz1517121461936');                    var vizElement = divElement.getElementsByTagName('object')[0];                    vizElement.style.width='100%';vizElement.style.height=(divElement.offsetWidth*0.75)+'px';                    var scriptElement = document.createElement('script');                    scriptElement.src = 'https://public.tableau.com/javascripts/api/viz_v1.js';                    vizElement.parentNode.insertBefore(scriptElement, vizElement);                </script>"
      ],
      "text/plain": [
       "<IPython.core.display.HTML object>"
      ]
     },
     "metadata": {},
     "output_type": "display_data"
    }
   ],
   "source": [
    "%%HTML\n",
    "\n",
    "<div class='tableauPlaceholder' id='viz1517121461936' style='position: relative'><noscript><a href='#'><img alt='Geo ' src='https:&#47;&#47;public.tableau.com&#47;static&#47;images&#47;IR&#47;IRS-scatter&#47;Geo&#47;1_rss.png' style='border: none' /></a></noscript><object class='tableauViz'  style='display:none;'><param name='host_url' value='https%3A%2F%2Fpublic.tableau.com%2F' /> <param name='embed_code_version' value='3' /> <param name='site_root' value='' /><param name='name' value='IRS-scatter&#47;Geo' /><param name='tabs' value='no' /><param name='toolbar' value='yes' /><param name='static_image' value='https:&#47;&#47;public.tableau.com&#47;static&#47;images&#47;IR&#47;IRS-scatter&#47;Geo&#47;1.png' /> <param name='animate_transition' value='yes' /><param name='display_static_image' value='yes' /><param name='display_spinner' value='yes' /><param name='display_overlay' value='yes' /><param name='display_count' value='yes' /></object></div>                <script type='text/javascript'>                    var divElement = document.getElementById('viz1517121461936');                    var vizElement = divElement.getElementsByTagName('object')[0];                    vizElement.style.width='100%';vizElement.style.height=(divElement.offsetWidth*0.75)+'px';                    var scriptElement = document.createElement('script');                    scriptElement.src = 'https://public.tableau.com/javascripts/api/viz_v1.js';                    vizElement.parentNode.insertBefore(scriptElement, vizElement);                </script>"
   ]
  },
  {
   "cell_type": "code",
   "execution_count": null,
   "metadata": {
    "collapsed": true
   },
   "outputs": [],
   "source": [
    "\n",
    "\n",
    "fig = plt.figure(figsize=(10,5))\n",
    "\n",
    "ax1 = plt.subplot(121, projection=gcrs.AlbersEqualArea(central_latitude=40.7128, central_longitude=-74.0059))\n",
    "gplt.polyplot(boroughs, ax=ax1, projection=gcrs.AlbersEqualArea())\n",
    "gplt.pointplot(fatal_collisions, projection=gcrs.AlbersEqualArea(),\n",
    "               hue='BOROUGH', categorical=True,\n",
    "               edgecolor='white', linewidth=0.5, zorder=10,\n",
    "               scale='NUMBER OF PERSONS KILLED', limits=(2, 8),\n",
    "               legend=True, legend_var='scale', legend_kwargs={'loc': 'upper left'},\n",
    "               legend_values=[2, 1], legend_labels=['2 Fatalities', '1 Fatality'],\n",
    "               ax=ax1)\n",
    "plt.title(\"Fatal Crashes in New York City, 2016\")\n",
    "\n",
    "ax2 = plt.subplot(122, projection=gcrs.AlbersEqualArea(central_latitude=40.7128, central_longitude=-74.0059))\n",
    "gplt.polyplot(boroughs, ax=ax2, projection=gcrs.AlbersEqualArea())\n",
    "gplt.pointplot(injurious_collisions, projection=gcrs.AlbersEqualArea(),\n",
    "               hue='BOROUGH', categorical=True,\n",
    "               edgecolor='white', linewidth=0.5, zorder=10,\n",
    "               scale='NUMBER OF PERSONS INJURED', limits=(1, 10),\n",
    "               legend=True, legend_var='scale', legend_kwargs={'loc': 'upper left'},\n",
    "               legend_values=[20, 15, 10, 5, 1],\n",
    "               legend_labels=['20 Injuries', '15 Injuries', '10 Injuries', '5 Injuries', '1 Injury'],\n",
    "               ax=ax2)\n",
    "plt.title(\"Injurious Crashes in New York City, 2016\")\n",
    "\n",
    "\n",
    "plt.savefig(\"nyc-collisions-map.png\", bbox_inches='tight', pad_inches=0)"
   ]
  }
 ],
 "metadata": {
  "kernelspec": {
   "display_name": "Python 3",
   "language": "python",
   "name": "python3"
  },
  "language_info": {
   "codemirror_mode": {
    "name": "ipython",
    "version": 3
   },
   "file_extension": ".py",
   "mimetype": "text/x-python",
   "name": "python",
   "nbconvert_exporter": "python",
   "pygments_lexer": "ipython3",
   "version": "3.6.3"
  }
 },
 "nbformat": 4,
 "nbformat_minor": 2
}
